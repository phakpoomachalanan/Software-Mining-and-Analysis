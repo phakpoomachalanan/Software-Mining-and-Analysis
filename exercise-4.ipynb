{
 "cells": [
  {
   "cell_type": "code",
   "execution_count": 2,
   "id": "9cd7fa65",
   "metadata": {},
   "outputs": [],
   "source": [
    "import subprocess\n",
    "import json\n",
    "from datetime import datetime"
   ]
  },
  {
   "cell_type": "code",
   "execution_count": 3,
   "id": "35dc81aa",
   "metadata": {},
   "outputs": [],
   "source": [
    "def get_listed_dates(listed: list) -> dict:\n",
    "    dates = {}\n",
    "    for tag in listed:\n",
    "        # UnicodeDecodeError: 'utf-8' codec can't decode byte 0xa1 in position 1494: invalid start byte\n",
    "        # Some commit messages contain invalid characters\n",
    "        show_output = subprocess.check_output(\n",
    "            [\"git\", \"show\", tag],\n",
    "            text=True,\n",
    "            encoding=\"utf-8\",\n",
    "            errors=\"ignore\"\n",
    "        )\n",
    "        \n",
    "        date_lines = [line for line in show_output.splitlines() if line.startswith(\"Date:\")]\n",
    "        if not date_lines:\n",
    "            continue\n",
    "        \n",
    "        last_date_line = date_lines[-1].partition(\"Date:\")[2].strip()\n",
    "        dates[tag] = last_date_line\n",
    "    return dates"
   ]
  },
  {
   "cell_type": "code",
   "execution_count": 4,
   "id": "bdd1c133",
   "metadata": {},
   "outputs": [],
   "source": [
    "def convert_strdate_to_datetime(dates: dict) -> dict:\n",
    "    datetime_dates = {}\n",
    "    for tag, strdate in dates.items():\n",
    "        datetime_dates[tag] = int(datetime.strptime(strdate, \"%a %b %d %H:%M:%S %Y %z\").timestamp())\n",
    "    return datetime_dates"
   ]
  },
  {
   "cell_type": "code",
   "execution_count": 17,
   "id": "9a3941c2",
   "metadata": {},
   "outputs": [],
   "source": [
    "# Step 1: Get issues\n",
    "\n",
    "!git tag | grep FIX | sed -r \"s/FIX-([0-9]+)-[0-9]+/FIX-\\1/\" | sort | uniq > issues.txt"
   ]
  },
  {
   "cell_type": "code",
   "execution_count": 18,
   "id": "34def41e",
   "metadata": {},
   "outputs": [],
   "source": [
    "# Step 2: Get Fix-tags\n",
    "\n",
    "tags = subprocess.check_output([\"git\", \"tag\"], text=True)\n",
    "\n",
    "with open(\"issues.txt\", \"r\") as f:\n",
    "    issues = f.read().splitlines()\n",
    "\n",
    "matched_tags = [tag for tag in tags.splitlines() if tag.startswith(tuple(issue for issue in issues))]\n",
    "\n",
    "with open(\"fix-tags.txt\", \"w\") as f:\n",
    "    f.write(\"\\n\".join(matched_tags) + \"\\n\")"
   ]
  },
  {
   "cell_type": "code",
   "execution_count": 19,
   "id": "5090a3f2",
   "metadata": {},
   "outputs": [],
   "source": [
    "# Step 3: Get Fixed date\n",
    "\n",
    "with open(\"fix-tags.txt\", \"r\") as f:\n",
    "    fixes = f.read().splitlines()\n",
    "\n",
    "dates = get_listed_dates(fixes)\n",
    "\n",
    "with open(\"fix-dates.json\", \"w\", encoding=\"utf-8\") as f:\n",
    "    json.dump(dates, f, ensure_ascii=False, indent=2)"
   ]
  },
  {
   "cell_type": "code",
   "execution_count": 20,
   "id": "a9feecf7",
   "metadata": {},
   "outputs": [],
   "source": [
    "# Step 4: Get Bug-tags\n",
    "\n",
    "with open(\"fix-tags.txt\", \"r\") as f:\n",
    "    fixes = f.read().splitlines()\n",
    "\n",
    "bug_tags = [f.replace(\"FIX\", \"BUG\") for f in fixes]\n",
    "all_tags = subprocess.check_output([\"git\", \"tag\"], text=True).splitlines()\n",
    "\n",
    "matched_tags = [tag for tag in all_tags if tag.startswith(tuple(bug for bug in bug_tags))]\n",
    "\n",
    "with open(\"bug-tags.txt\", \"w\") as f:\n",
    "    f.write(\"\\n\".join(matched_tags) + \"\\n\")"
   ]
  },
  {
   "cell_type": "code",
   "execution_count": 21,
   "id": "cb647814",
   "metadata": {},
   "outputs": [],
   "source": [
    "# Step 5: Get Bug-injected date\n",
    "\n",
    "with open(\"bug-tags.txt\", \"r\") as f:\n",
    "    bugs = f.read().splitlines()\n",
    "\n",
    "dates = get_listed_dates(bugs)\n",
    "\n",
    "with open(\"bug-dates.json\", \"w\", encoding=\"utf-8\") as f:\n",
    "    json.dump(dates, f, ensure_ascii=False, indent=2)"
   ]
  },
  {
   "cell_type": "code",
   "execution_count": 33,
   "id": "44421d10",
   "metadata": {},
   "outputs": [],
   "source": [
    "# Step 6: Convert timestamp to unixtime\n",
    "\n",
    "with open(\"fix-dates.json\", \"r\", encoding=\"utf-8\") as f:\n",
    "    fix_dates = json.load(f)\n",
    "\n",
    "with open(\"bug-dates.json\", \"r\", encoding=\"utf-8\") as f:\n",
    "    bug_dates = json.load(f)\n",
    "\n",
    "fix_dates_dt = convert_strdate_to_datetime(fix_dates)\n",
    "bug_dates_dt = convert_strdate_to_datetime(bug_dates)\n",
    "\n",
    "with open(\"fix-dates-dt.json\", \"w\", encoding=\"utf-8\") as f:\n",
    "    json.dump({k: v for k, v in fix_dates_dt.items()}, f, ensure_ascii=False, indent=2)\n",
    "\n",
    "with open(\"bug-dates-dt.json\", \"w\", encoding=\"utf-8\") as f:\n",
    "    json.dump({k: v for k, v in bug_dates_dt.items()}, f, ensure_ascii=False, indent=2)"
   ]
  },
  {
   "cell_type": "code",
   "execution_count": null,
   "id": "24d7bafa",
   "metadata": {},
   "outputs": [
    {
     "name": "stdout",
     "output_type": "stream",
     "text": [
      "FIX-316096-4618 FIX-192795-1928\n",
      "Average bug lifetime: 23071134.258689307 seconds\n",
      "Maximum bug lifetime: FIX-316096-4618 173138334 seconds\n",
      "Minimum bug lifetime: FIX-192795-1928 60804 seconds\n"
     ]
    }
   ],
   "source": [
    "# Step 7: Calculate a bug's life\n",
    "\n",
    "with open(\"fix-dates-dt.json\", \"r\", encoding=\"utf-8\") as f:\n",
    "    fix_dates_dt = json.load(f)\n",
    "\n",
    "with open(\"bug-dates-dt.json\", \"r\", encoding=\"utf-8\") as f:\n",
    "    bug_dates_dt = json.load(f)\n",
    "\n",
    "bug_lifetimes = {\"-\".join(bug_tag.replace(\"BUG\", \"FIX\").split(\"-\")[0:-1]): fix_dates_dt[\"-\".join(bug_tag.replace(\"BUG\", \"FIX\").split(\"-\")[0:-1])] - bug_dates_dt[bug_tag] for bug_tag in bug_dates_dt.keys()}\n",
    "\n",
    "average_lifetime = sum(bug_lifetimes.values()) / len(bug_lifetimes)\n",
    "max_key = max(bug_lifetimes, key=bug_lifetimes.get)\n",
    "min_key = min(bug_lifetimes, key=bug_lifetimes.get)\n",
    "maximum_lifetime = max(bug_lifetimes.values())\n",
    "minimum_lifetime = min(bug_lifetimes.values())\n",
    "\n",
    "print(f\"Average bug lifetime: {average_lifetime} seconds\")\n",
    "print(f\"Maximum bug lifetime: {max_key} {maximum_lifetime} seconds\")\n",
    "print(f\"Minimum bug lifetime: {min_key} {minimum_lifetime} seconds\")"
   ]
  },
  {
   "cell_type": "code",
   "execution_count": null,
   "id": "c50897ab",
   "metadata": {},
   "outputs": [],
   "source": []
  }
 ],
 "metadata": {
  "kernelspec": {
   "display_name": "Python 3",
   "language": "python",
   "name": "python3"
  },
  "language_info": {
   "codemirror_mode": {
    "name": "ipython",
    "version": 3
   },
   "file_extension": ".py",
   "mimetype": "text/x-python",
   "name": "python",
   "nbconvert_exporter": "python",
   "pygments_lexer": "ipython3",
   "version": "3.9.6"
  }
 },
 "nbformat": 4,
 "nbformat_minor": 5
}
